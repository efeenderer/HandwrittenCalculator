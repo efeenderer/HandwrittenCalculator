{
 "cells": [
  {
   "cell_type": "markdown",
   "metadata": {},
   "source": [
    "# Importing Required Libraries and Definings"
   ]
  },
  {
   "cell_type": "code",
   "execution_count": null,
   "metadata": {},
   "outputs": [],
   "source": [
    "import os\n",
    "import cv2\n",
    "import numpy as np\n",
    "\n",
    "dataset_path = r\"E:\\\\Python_Projeler\\\\ComputerVisionProjects\\\\FinalProject\\\\dataset\""
   ]
  },
  {
   "cell_type": "markdown",
   "metadata": {},
   "source": [
    "# Character Mapping"
   ]
  },
  {
   "cell_type": "code",
   "execution_count": null,
   "metadata": {},
   "outputs": [],
   "source": [
    "letter_dict = {\n",
    "    '0001': 'a', '0002': 'b', '0003': 'c', '0004': 'd', '0005': 'e', '0006': 'f',\n",
    "    '0007': 'h', '0008': 'vertical_line', '0009': 'j', '0010': 'k', '0011': 'vertical_line',\n",
    "    '0012': 'm', '0013': 'n', '0014': 'o', '0015': 'p', '0016': 'q', '0017': 'r',\n",
    "    '0018': 's', '0019': 't', '0020': 'u', '0021': 'v', '0022': 'w', '0023': 'x',\n",
    "    '0024': 'y', '0025': 'z', '0026': '0', '0027': '1', '0028': '2', '0029': '3',\n",
    "    '0030': '4', '0031': '5', '0032': '6', '0033': '7', '0034': '8', '0035': '9',\n",
    "    '0036': 'plus', '0037': 'horizontal_line', '0038': 'slash',\n",
    "    '0039': 'paranthesis_left', '0040': 'paranthesis_right', '0041': 'sqrt', '0042': 'sqrt'}\n",
    "\n",
    "label_dict = {label: 0 for label in set(letter_dict.values())}"
   ]
  },
  {
   "cell_type": "markdown",
   "metadata": {},
   "source": [
    "# Character Extraction Function"
   ]
  },
  {
   "cell_type": "code",
   "execution_count": null,
   "metadata": {},
   "outputs": [],
   "source": [
    "def ExtractSet(path, save_path, name=None):\n",
    "    page = cv2.imread(path, cv2.IMREAD_GRAYSCALE)\n",
    "    kernel = np.ones((4, 4), np.uint8)\n",
    "    blur = cv2.GaussianBlur(page, (3, 3), 1)\n",
    "    _, thresh = cv2.threshold(blur, 0, 255, cv2.THRESH_BINARY_INV + cv2.THRESH_OTSU)\n",
    "\n",
    "    dilation = cv2.dilate(thresh, kernel, iterations=2)\n",
    "    dilation_2 = cv2.dilate(thresh, kernel=np.ones((1, 1), np.uint8))  # Optional, may vary per dataset\n",
    "\n",
    "    contours, _ = cv2.findContours(dilation, cv2.RETR_EXTERNAL, cv2.CHAIN_APPROX_SIMPLE)\n",
    "\n",
    "    for index, contour in enumerate(contours):\n",
    "        mask = np.zeros_like(dilation)\n",
    "        cv2.drawContours(mask, [contour], -1, 255, thickness=cv2.FILLED)\n",
    "        MaskedLetter = cv2.bitwise_and(dilation_2, dilation_2, mask=mask)\n",
    "\n",
    "        if name is not None:\n",
    "            index = label_dict[name]\n",
    "            label_dict[name] = index + 1\n",
    "\n",
    "        x, y, w, h = cv2.boundingRect(contour)\n",
    "        max_edge = max(h, w)\n",
    "        blank = np.zeros((max_edge, max_edge), np.uint8)\n",
    "\n",
    "        x1, x2 = int((max_edge - h) / 2), int((max_edge + h) / 2)\n",
    "        y1, y2 = int((max_edge - w) / 2), int((max_edge + w) / 2)\n",
    "\n",
    "        blank[x1:x2, y1:y2] = MaskedLetter[y:y + h, x:x + w]\n",
    "        letter = cv2.resize(blank, (64, 64))\n",
    "\n",
    "        cv2.imwrite(save_path + f\"\\\\{index}.jpg\", letter)"
   ]
  },
  {
   "cell_type": "markdown",
   "metadata": {},
   "source": [
    "# Process Dataset Image Pages"
   ]
  },
  {
   "cell_type": "code",
   "execution_count": null,
   "metadata": {},
   "outputs": [],
   "source": [
    "for dSet_folder in os.listdir(dataset_path):\n",
    "    if len(dSet_folder.split(\".\")) > 1:\n",
    "        continue\n",
    "\n",
    "    dSet_path = os.path.join(dataset_path, dSet_folder)\n",
    "\n",
    "    for index, letter_page in enumerate(os.listdir(dSet_path)):\n",
    "        if letter_page.split(\".\")[-1] != \"jpg\":\n",
    "            continue\n",
    "\n",
    "        letter_page_path = os.path.join(dSet_path, letter_page)\n",
    "        letter_number = letter_page.split(\".\")[0].split(\"-\")[-1]\n",
    "        letter_name = letter_dict[letter_number]\n",
    "\n",
    "        print(f\"{letter_name}        {letter_number}\")\n",
    "\n",
    "        save_path = os.path.join(dSet_path, letter_name)\n",
    "        os.makedirs(save_path, exist_ok=True)\n",
    "\n",
    "        ExtractSet(letter_page_path, save_path, letter_name)"
   ]
  }
 ],
 "metadata": {
  "kernelspec": {
   "display_name": "Python 3",
   "language": "python",
   "name": "python3"
  },
  "language_info": {
   "name": "python",
   "version": "3.11.7"
  }
 },
 "nbformat": 4,
 "nbformat_minor": 2
}
